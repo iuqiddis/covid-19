{
 "cells": [
  {
   "cell_type": "markdown",
   "metadata": {},
   "source": [
    "# Visualizing COVID-19 Growth \n",
    "\n",
    "I wanted to see and compare state-level growth curves for the US, so I wrote this notebook to pull data from [http://covidtracking.com](http://covidtracking.com/) and plot the daily and total increase in COVID-19 cases in all US states"
   ]
  },
  {
   "cell_type": "code",
   "execution_count": 1,
   "metadata": {},
   "outputs": [],
   "source": [
    "#from os import lstat\n",
    "import os\n",
    "from subprocess import call\n",
    "import base64\n",
    "from io import BytesIO\n",
    "import requests\n",
    "import pandas as pd\n",
    "import datetime as dt\n",
    "import numpy as np\n",
    "import matplotlib.pyplot as plt\n",
    "from matplotlib.figure import Figure\n",
    "from matplotlib.dates import num2date\n",
    "from matplotlib.ticker import FuncFormatter\n",
    "from matplotlib.dates import AutoDateLocator\n",
    "from pandas.plotting import register_matplotlib_converters\n",
    "register_matplotlib_converters()\n"
   ]
  },
  {
   "cell_type": "markdown",
   "metadata": {},
   "source": [
    "The data retrieval is a bit indulgent. You can just use the `data_url` with the `requests` command (next cell) to get the CSV. I prefer to fetch the CSV twice a day; the next cell just checks and then downloads the latest CSV if its older than 12 hours. The source seems to update the data once every few hours, daily."
   ]
  },
  {
   "cell_type": "code",
   "execution_count": 2,
   "metadata": {},
   "outputs": [
    {
     "name": "stdout",
     "output_type": "stream",
     "text": [
      "Downloaded an updated dataset\n"
     ]
    }
   ],
   "source": [
    "data_url = 'https://covidtracking.com/api/states/daily.csv'\n",
    "data_path = 'daily.csv' #assuming the file is in the same directory as the notebook\n",
    "name_path = 'states_info.csv'\n",
    "now = dt.datetime.now()\n",
    "if os.path.isfile(data_path):\n",
    "    csv_time = dt.datetime.fromtimestamp(os.lstat(data_path).st_mtime)\n",
    "else:\n",
    "    csv_time = now - dt.timedelta(1)\n",
    "# lstat gives me the modification time.\n",
    "\n",
    "if now - csv_time > dt.timedelta(0.25):\n",
    "    call(['rm', 'daily.csv'])\n",
    "    call(['wget', data_url])\n",
    "    print('Downloaded an updated dataset')"
   ]
  },
  {
   "cell_type": "code",
   "execution_count": null,
   "metadata": {},
   "outputs": [],
   "source": [
    "csv = requests.get(data_url) # to directly import from api"
   ]
  },
  {
   "cell_type": "markdown",
   "metadata": {},
   "source": [
    "This is just a dictionary with a method to call up full state names from abbreviations. Don't really need it, but saves time for typing the full state name"
   ]
  },
  {
   "cell_type": "code",
   "execution_count": 3,
   "metadata": {},
   "outputs": [],
   "source": [
    "class StateNames():\n",
    "    def __init__(self, name_path):\n",
    "        self.name = {}\n",
    "        self.capita ={} #per capita\n",
    "        for line in open(name_path):\n",
    "            n, m, p = line.strip('\\n').split(',')\n",
    "            self.name[m] = n\n",
    "            self.capita[m] = int(p)\n",
    "    def fname(self, abr):\n",
    "        return self.name[abr]\n",
    "    def spop(self, abr): #state population\n",
    "        return self.capita[abr]\n",
    "\n",
    "sn = StateNames(name_path)"
   ]
  },
  {
   "cell_type": "code",
   "execution_count": 4,
   "metadata": {},
   "outputs": [],
   "source": [
    "def str_to_date(x):\n",
    "    return dt.datetime.strptime(str(x),'%Y%m%d')\n",
    "\n",
    "df = pd.read_csv(data_path, converters={'date' : str_to_date})"
   ]
  },
  {
   "cell_type": "code",
   "execution_count": null,
   "metadata": {},
   "outputs": [],
   "source": [
    "df.columns\n",
    "df.dtypes"
   ]
  },
  {
   "cell_type": "code",
   "execution_count": 20,
   "metadata": {},
   "outputs": [],
   "source": [
    "def select_state(abr):\n",
    "    # abbreivation\n",
    "    # postiveIncrease >= 10 to not worry about log(0)\n",
    "    state = df[(df['state'] == abr) & (df['positive'] >= 10)].sort_values('date')\n",
    "    return state\n",
    "\n",
    "def ticks_log(x, pos):\n",
    "    # two args are the value and tick position\n",
    "    if x < 3:\n",
    "        return '{:1.0f}'.format(10**x)\n",
    "    elif x >= 6:\n",
    "        return '{:1.1f}M'.format(10**x/1e6)\n",
    "    return '{:1.1f}K'.format(10**x/1000)\n",
    "\n",
    "def ticks_line(x, pos):\n",
    "    # two args are the value and tick position\n",
    "    if x < 1000:\n",
    "        return '{:1.0f}'.format(x)\n",
    "    return '{:1.1f}K'.format(x/1000)\n",
    "\n",
    "def xticks_date(x, pos):\n",
    "    # two args are the value and tick position\n",
    "    # i had to use num2date as the dateobject is converted to numpy array at some point\n",
    "    return '{}'.format(dt.datetime.strftime(num2date(x),'%b %d'))"
   ]
  },
  {
   "cell_type": "code",
   "execution_count": 6,
   "metadata": {},
   "outputs": [],
   "source": [
    "def plot_totdaily(state_abr, log=True, deaths=False, web=False, sn=sn):\n",
    "    \n",
    "    feature = 'positive'\n",
    "    feature_inc = 'positiveIncrease'\n",
    "    titles = 'Cases'\n",
    "    \n",
    "    if deaths:\n",
    "        feature = 'death'\n",
    "        feature_inc = 'deathIncrease'\n",
    "        titles = 'Deaths'\n",
    "    \n",
    "    state = select_state(state_abr)\n",
    "    name = sn.fname(state_abr)\n",
    "    \n",
    "    x = state['date']\n",
    "    y_daily = state[feature_inc]\n",
    "    if log is True:\n",
    "        y_tot = np.log10(state[feature])\n",
    "    else:\n",
    "        y_tot = state[feature]\n",
    "    \n",
    "    \n",
    "    if web:\n",
    "        fig = Figure(figsize=(8,6))\n",
    "        ax1 = fig.subplots()\n",
    "    else:\n",
    "        fig, ax1 = plt.subplots(figsize=(8,6))\n",
    "\n",
    "    color = 'tab:red'\n",
    "    ax1.set_ylabel(f'New {titles}', color=color)  # we already handled the x-label with ax1\n",
    "    ax1.bar(x, y_daily, color=color, alpha= 0.7)\n",
    "    ax1.tick_params(axis='y', labelcolor=color)\n",
    "  \n",
    "    ax2 = ax1.twinx()  # instantiate a second axes that shares the same x-axis\n",
    "    \n",
    "    color = 'tab:blue'\n",
    "    ax2.set_ylabel(f'Cumulative {titles}', color=color)\n",
    "    ax2.plot(x, y_tot, color=color, lw=3)\n",
    "    ax2.tick_params(axis='y', labelcolor=color)\n",
    "    \n",
    "    if log is True:\n",
    "        formatter = FuncFormatter(ticks_log)\n",
    "    else:\n",
    "        formatter = FuncFormatter(ticks_line) \n",
    "    ax2.yaxis.set_major_formatter(formatter)\n",
    "\n",
    "    # if you modify ax2, the ax1 defaults seem to overwrite them\n",
    "    xformatter = FuncFormatter(xticks_date)\n",
    "    ax1.xaxis.set_major_formatter(xformatter)\n",
    "    ax1.tick_params(axis='x', rotation=60)\n",
    "    # xlocator is there to most likely deal with a jupyter bug\n",
    "    xlocator = AutoDateLocator(interval_multiples=False)\n",
    "    ax1.xaxis.set_major_locator(xlocator)\n",
    "    \n",
    "\n",
    "    ax2.set_title(f'Coronavirus Cases in {name}')\n",
    "    #fig.tight_layout()  # otherwise the right y-label is slightly clipped\n",
    "    \n",
    "    \n",
    "    if web:\n",
    "        buffer = BytesIO()\n",
    "        fig.savefig(buffer, format='png')\n",
    "        data = base64.b64encode(buffer.getbuffer()).decode(\"ascii\")\n",
    "        return f\"<img src='data:image/png;base64,{data}'/>\"\n",
    "\n",
    "    return"
   ]
  },
  {
   "cell_type": "code",
   "execution_count": 7,
   "metadata": {},
   "outputs": [],
   "source": [
    "def plot_comp(states_abr, log=True, deaths=False, per_capita= False, web=False, sn=sn):\n",
    "    \n",
    "    if len(states_abr) > 5:\n",
    "        print('Please Enter 5 Or Less States')\n",
    "        return\n",
    "    \n",
    "    feature = 'positive'\n",
    "    titles = 'Cases'\n",
    "    if deaths:\n",
    "        feature = 'death'\n",
    "        titles = 'Deaths'\n",
    "        \n",
    "    if per_capita:\n",
    "        titles = titles+' per Million People'\n",
    "    \n",
    "    st ={'full': {},\n",
    "         'cases': {},\n",
    "         'date': {}}\n",
    "    colors = ['tab:blue', 'tab:red', 'tab:green', 'tab:orange', 'tab:pink']\n",
    "    \n",
    "    for state in states_abr:\n",
    "        st_df = select_state(state) \n",
    "        st['full'][state] = sn.fname(state)\n",
    "        st['date'][state] = st_df['date']\n",
    "        \n",
    "        if per_capita:\n",
    "            pc = 1e6/sn.spop(state)\n",
    "        else:\n",
    "            pc = 1\n",
    "        \n",
    "        if not log:\n",
    "            st['cases'][state] = st_df[feature]*pc\n",
    "        else:\n",
    "            st['cases'][state] = np.log10(st_df[feature]*pc)\n",
    "    \n",
    "    \n",
    "    if web:\n",
    "        fig = Figure(figsize=(8,6))\n",
    "        ax1 = fig.subplots()\n",
    "    else:\n",
    "        fig, ax1 = plt.subplots(figsize=(8,6))\n",
    "    \n",
    "    for n,state in enumerate(states_abr):\n",
    "        ax1.plot(st['date'][state], st['cases'][state], color=colors[n], label=f\"{st['full'][state]}\", lw=2)\n",
    "            \n",
    "    linecol = 'gainsboro'\n",
    "    labelcol = 'dimgray'\n",
    "    \n",
    "    ax1.set_title(f'Coronavirus {titles} Comparison', color=labelcol, fontsize=14)\n",
    "    ax1.set_ylabel(f'Cumalative {titles}', color=labelcol, fontsize=14)\n",
    "    \n",
    "    ax1.tick_params(axis='y', color=linecol, labelcolor=labelcol, labelsize=12)    \n",
    "    \n",
    "    xformatter = FuncFormatter(xticks_date)\n",
    "    ax1.xaxis.set_major_formatter(xformatter)\n",
    "    ax1.tick_params(axis='x', rotation=60, color=linecol, labelcolor=labelcol, labelsize=12) \n",
    "    xlocator = AutoDateLocator(interval_multiples=False)\n",
    "    ax1.xaxis.set_major_locator(xlocator)\n",
    "    ax1.set_ylim(bottom=0)\n",
    "    \n",
    "    \n",
    "    if log is True:\n",
    "        formatter = FuncFormatter(ticks_log)\n",
    "    else:\n",
    "        formatter = FuncFormatter(ticks_line) \n",
    "    ax1.yaxis.set_major_formatter(formatter)\n",
    "    \n",
    "    ax1.grid(which='major', color=linecol)\n",
    "    for sides in ax1.spines:\n",
    "        ax1.spines[sides].set_color(None)\n",
    "    ax1.spines['bottom'].set_color(linecol)\n",
    "    \n",
    "    leg = ax1.legend(frameon=False, loc='lower left')\n",
    "    plt.setp(leg.get_texts(), color=labelcol)\n",
    "    \n",
    "    if web:\n",
    "        buffer = BytesIO()\n",
    "        fig.savefig(buffer, format='png')\n",
    "        data = base64.b64encode(buffer.getbuffer()).decode(\"ascii\")\n",
    "        return f\"<img src='data:image/png;base64,{data}'/>\"\n",
    "\n",
    "    return"
   ]
  },
  {
   "cell_type": "code",
   "execution_count": null,
   "metadata": {},
   "outputs": [],
   "source": [
    "plot_totdaily('NY', web=False)"
   ]
  },
  {
   "cell_type": "code",
   "execution_count": null,
   "metadata": {},
   "outputs": [],
   "source": [
    "plot_comp(['NY','CA'], log=True)"
   ]
  },
  {
   "cell_type": "code",
   "execution_count": null,
   "metadata": {},
   "outputs": [],
   "source": [
    "plot_comp('CA', 'NY', 'WA', 'PA', per_capita=False, log=False)"
   ]
  },
  {
   "cell_type": "code",
   "execution_count": 21,
   "metadata": {},
   "outputs": [
    {
     "data": {
      "image/png": "[encoded data removed]",
      "text/plain": [
       "<Figure size 576x432 with 1 Axes>"
      ]
     },
     "metadata": {
      "needs_background": "light"
     },
     "output_type": "display_data"
    }
   ],
   "source": [
    "plot_comp(['OK', 'IN'] , log=False, deaths=False, per_capita=True, web=False)"
   ]
  }
 ],
 "metadata": {
  "kernelspec": {
   "display_name": "Python 3",
   "language": "python",
   "name": "python3"
  },
  "language_info": {
   "codemirror_mode": {
    "name": "ipython",
    "version": 3
   },
   "file_extension": ".py",
   "mimetype": "text/x-python",
   "name": "python",
   "nbconvert_exporter": "python",
   "pygments_lexer": "ipython3",
   "version": "3.7.4"
  }
 },
 "nbformat": 4,
 "nbformat_minor": 2
}
